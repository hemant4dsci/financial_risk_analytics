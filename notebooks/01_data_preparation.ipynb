{
 "cells": [
  {
   "cell_type": "markdown",
   "id": "381d01ae",
   "metadata": {},
   "source": [
    "# Data Preparation"
   ]
  },
  {
   "cell_type": "markdown",
   "id": "66df5873",
   "metadata": {},
   "source": [
    "> ### Import Libraries"
   ]
  },
  {
   "cell_type": "code",
   "execution_count": 14,
   "id": "ac65d65d",
   "metadata": {},
   "outputs": [],
   "source": [
    "import pandas as pd\n",
    "import matplotlib.pyplot as plt"
   ]
  },
  {
   "cell_type": "markdown",
   "id": "be56752e",
   "metadata": {},
   "source": [
    "> ### Connecting with **PostgreSQL** Data-Base"
   ]
  },
  {
   "cell_type": "code",
   "execution_count": 15,
   "id": "6f615b2e",
   "metadata": {},
   "outputs": [
    {
     "name": "stdout",
     "output_type": "stream",
     "text": [
      "Successfully connected to PostgreSQL Data-Base\n"
     ]
    }
   ],
   "source": [
    "from sqlalchemy import create_engine\n",
    "\n",
    "\"\"\"Connection Details\"\"\"\n",
    "\n",
    "user = \"postgres\"  # username\n",
    "password = \"tictok#2020\"  # password\n",
    "host = \"localhost\"  # server IP\n",
    "port = \"5432\"  # port no\n",
    "database = \"financial_risk_analytics\"  # Data-Base name\n",
    "\n",
    "try:\n",
    "    engine = create_engine(\n",
    "        f\"postgresql+psycopg2://{user}:{password}@{host}:{port}/{database}\"\n",
    "    )\n",
    "    with engine.connect() as connection:\n",
    "        print(\"Successfully connected to PostgreSQL Data-Base\")\n",
    "\n",
    "except Exception as exc:\n",
    "    print(\"Error while connecting to PostgreSQL\", exc)"
   ]
  },
  {
   "cell_type": "markdown",
   "id": "cf6ec1b1",
   "metadata": {},
   "source": [
    ">### Loading Data-Set"
   ]
  },
  {
   "cell_type": "code",
   "execution_count": 16,
   "id": "af70e013",
   "metadata": {},
   "outputs": [
    {
     "data": {
      "application/vnd.microsoft.datawrangler.viewer.v0+json": {
       "columns": [
        {
         "name": "index",
         "rawType": "int64",
         "type": "integer"
        },
        {
         "name": "serial_number",
         "rawType": "int64",
         "type": "integer"
        },
        {
         "name": "portfolio_name",
         "rawType": "object",
         "type": "string"
        },
        {
         "name": "manager_name",
         "rawType": "object",
         "type": "string"
        },
        {
         "name": "inception_date",
         "rawType": "object",
         "type": "unknown"
        },
        {
         "name": "total_value_usd",
         "rawType": "float64",
         "type": "float"
        },
        {
         "name": "asset_class",
         "rawType": "object",
         "type": "string"
        },
        {
         "name": "rating",
         "rawType": "object",
         "type": "string"
        },
        {
         "name": "sector",
         "rawType": "object",
         "type": "string"
        },
        {
         "name": "volatility",
         "rawType": "float64",
         "type": "float"
        },
        {
         "name": "region",
         "rawType": "object",
         "type": "string"
        },
        {
         "name": "trade_date",
         "rawType": "object",
         "type": "unknown"
        },
        {
         "name": "exposure_value",
         "rawType": "float64",
         "type": "float"
        },
        {
         "name": "exposure_limit",
         "rawType": "float64",
         "type": "float"
        },
        {
         "name": "return_rate",
         "rawType": "float64",
         "type": "float"
        }
       ],
       "ref": "fd3f6df3-1f87-4b4a-ac5a-72c58ccedcd3",
       "rows": [
        [
         "0",
         "1",
         "Fund_033",
         "Riya Patel",
         "2020-12-16",
         "22359802.67",
         "Commodity",
         "BBB",
         "Technology",
         "0.159",
         "US",
         "2025-03-10",
         "21290060.84",
         "21590475.75",
         "0.08"
        ],
        [
         "1",
         "2",
         "Fund_001",
         "Amit Sharma",
         "2021-08-23",
         "81162622.58",
         "Commodity",
         "BB",
         "Technology",
         "0.027",
         "MENA",
         "2025-09-11",
         "8123204.92",
         "8737864.45",
         "0.08"
        ],
        [
         "2",
         "3",
         "Fund_019",
         "Amit Sharma",
         "2023-07-25",
         "92069553.54",
         "Equity",
         "BB",
         "Utilities",
         "0.033",
         "LATAM",
         "2024-01-08",
         "9502377.31",
         "8924389.86",
         "0.12"
        ],
        [
         "3",
         "4",
         "Fund_002",
         "Amit Sharma",
         "2023-07-11",
         "190635718.22",
         "ETF",
         "BB",
         "Infrastructure",
         "0.159",
         "MENA",
         "2025-08-14",
         "22742846.06",
         "21228053.67",
         "0.09"
        ],
        [
         "4",
         "5",
         "Fund_044",
         "Amit Sharma",
         "2021-03-25",
         "182770876.39",
         "Bond",
         "AAA",
         "Finance",
         "0.169",
         "LATAM",
         "2025-05-25",
         "22623123.9",
         "22965082.04",
         "0.06"
        ]
       ],
       "shape": {
        "columns": 14,
        "rows": 5
       }
      },
      "text/html": [
       "<div>\n",
       "<style scoped>\n",
       "    .dataframe tbody tr th:only-of-type {\n",
       "        vertical-align: middle;\n",
       "    }\n",
       "\n",
       "    .dataframe tbody tr th {\n",
       "        vertical-align: top;\n",
       "    }\n",
       "\n",
       "    .dataframe thead th {\n",
       "        text-align: right;\n",
       "    }\n",
       "</style>\n",
       "<table border=\"1\" class=\"dataframe\">\n",
       "  <thead>\n",
       "    <tr style=\"text-align: right;\">\n",
       "      <th></th>\n",
       "      <th>serial_number</th>\n",
       "      <th>portfolio_name</th>\n",
       "      <th>manager_name</th>\n",
       "      <th>inception_date</th>\n",
       "      <th>total_value_usd</th>\n",
       "      <th>asset_class</th>\n",
       "      <th>rating</th>\n",
       "      <th>sector</th>\n",
       "      <th>volatility</th>\n",
       "      <th>region</th>\n",
       "      <th>trade_date</th>\n",
       "      <th>exposure_value</th>\n",
       "      <th>exposure_limit</th>\n",
       "      <th>return_rate</th>\n",
       "    </tr>\n",
       "  </thead>\n",
       "  <tbody>\n",
       "    <tr>\n",
       "      <th>0</th>\n",
       "      <td>1</td>\n",
       "      <td>Fund_033</td>\n",
       "      <td>Riya Patel</td>\n",
       "      <td>2020-12-16</td>\n",
       "      <td>2.235980e+07</td>\n",
       "      <td>Commodity</td>\n",
       "      <td>BBB</td>\n",
       "      <td>Technology</td>\n",
       "      <td>0.159</td>\n",
       "      <td>US</td>\n",
       "      <td>2025-03-10</td>\n",
       "      <td>21290060.84</td>\n",
       "      <td>21590475.75</td>\n",
       "      <td>0.08</td>\n",
       "    </tr>\n",
       "    <tr>\n",
       "      <th>1</th>\n",
       "      <td>2</td>\n",
       "      <td>Fund_001</td>\n",
       "      <td>Amit Sharma</td>\n",
       "      <td>2021-08-23</td>\n",
       "      <td>8.116262e+07</td>\n",
       "      <td>Commodity</td>\n",
       "      <td>BB</td>\n",
       "      <td>Technology</td>\n",
       "      <td>0.027</td>\n",
       "      <td>MENA</td>\n",
       "      <td>2025-09-11</td>\n",
       "      <td>8123204.92</td>\n",
       "      <td>8737864.45</td>\n",
       "      <td>0.08</td>\n",
       "    </tr>\n",
       "    <tr>\n",
       "      <th>2</th>\n",
       "      <td>3</td>\n",
       "      <td>Fund_019</td>\n",
       "      <td>Amit Sharma</td>\n",
       "      <td>2023-07-25</td>\n",
       "      <td>9.206955e+07</td>\n",
       "      <td>Equity</td>\n",
       "      <td>BB</td>\n",
       "      <td>Utilities</td>\n",
       "      <td>0.033</td>\n",
       "      <td>LATAM</td>\n",
       "      <td>2024-01-08</td>\n",
       "      <td>9502377.31</td>\n",
       "      <td>8924389.86</td>\n",
       "      <td>0.12</td>\n",
       "    </tr>\n",
       "    <tr>\n",
       "      <th>3</th>\n",
       "      <td>4</td>\n",
       "      <td>Fund_002</td>\n",
       "      <td>Amit Sharma</td>\n",
       "      <td>2023-07-11</td>\n",
       "      <td>1.906357e+08</td>\n",
       "      <td>ETF</td>\n",
       "      <td>BB</td>\n",
       "      <td>Infrastructure</td>\n",
       "      <td>0.159</td>\n",
       "      <td>MENA</td>\n",
       "      <td>2025-08-14</td>\n",
       "      <td>22742846.06</td>\n",
       "      <td>21228053.67</td>\n",
       "      <td>0.09</td>\n",
       "    </tr>\n",
       "    <tr>\n",
       "      <th>4</th>\n",
       "      <td>5</td>\n",
       "      <td>Fund_044</td>\n",
       "      <td>Amit Sharma</td>\n",
       "      <td>2021-03-25</td>\n",
       "      <td>1.827709e+08</td>\n",
       "      <td>Bond</td>\n",
       "      <td>AAA</td>\n",
       "      <td>Finance</td>\n",
       "      <td>0.169</td>\n",
       "      <td>LATAM</td>\n",
       "      <td>2025-05-25</td>\n",
       "      <td>22623123.90</td>\n",
       "      <td>22965082.04</td>\n",
       "      <td>0.06</td>\n",
       "    </tr>\n",
       "  </tbody>\n",
       "</table>\n",
       "</div>"
      ],
      "text/plain": [
       "   serial_number portfolio_name manager_name inception_date  total_value_usd  \\\n",
       "0              1       Fund_033   Riya Patel     2020-12-16     2.235980e+07   \n",
       "1              2       Fund_001  Amit Sharma     2021-08-23     8.116262e+07   \n",
       "2              3       Fund_019  Amit Sharma     2023-07-25     9.206955e+07   \n",
       "3              4       Fund_002  Amit Sharma     2023-07-11     1.906357e+08   \n",
       "4              5       Fund_044  Amit Sharma     2021-03-25     1.827709e+08   \n",
       "\n",
       "  asset_class rating          sector  volatility region  trade_date  \\\n",
       "0   Commodity    BBB      Technology       0.159     US  2025-03-10   \n",
       "1   Commodity     BB      Technology       0.027   MENA  2025-09-11   \n",
       "2      Equity     BB       Utilities       0.033  LATAM  2024-01-08   \n",
       "3         ETF     BB  Infrastructure       0.159   MENA  2025-08-14   \n",
       "4        Bond    AAA         Finance       0.169  LATAM  2025-05-25   \n",
       "\n",
       "   exposure_value  exposure_limit  return_rate  \n",
       "0     21290060.84     21590475.75         0.08  \n",
       "1      8123204.92      8737864.45         0.08  \n",
       "2      9502377.31      8924389.86         0.12  \n",
       "3     22742846.06     21228053.67         0.09  \n",
       "4     22623123.90     22965082.04         0.06  "
      ]
     },
     "execution_count": 16,
     "metadata": {},
     "output_type": "execute_result"
    }
   ],
   "source": [
    "sql_query = \"\"\"\n",
    "SELECT\n",
    "    pos.position_id AS serial_number,\n",
    "    prt.portfolio_name,\n",
    "    prt.manager_name,\n",
    "    prt.inception_date,\n",
    "    prt.total_value_usd,\n",
    "    ast.asset_class,\n",
    "    ast.rating,\n",
    "    ast.sector,\n",
    "    ast.volatility,\n",
    "    pos.region,\n",
    "    pos.trade_date,\n",
    "    pos.exposure_value,\n",
    "    pos.exposure_limit,\n",
    "    pos.return_rate\n",
    "FROM\n",
    "    positions pos\n",
    "    JOIN portfolios prt ON prt.portfolio_id = pos.portfolio_id\n",
    "    JOIN assets ast ON ast.asset_id = pos.asset_id\n",
    "\"\"\"\n",
    "\n",
    "df = pd.read_sql(sql=sql_query, con=engine)\n",
    "df.head()"
   ]
  },
  {
   "cell_type": "markdown",
   "id": "86488fa2",
   "metadata": {},
   "source": [
    ">### Data Structure Overview"
   ]
  },
  {
   "cell_type": "code",
   "execution_count": 17,
   "id": "9960a7d6",
   "metadata": {},
   "outputs": [
    {
     "data": {
      "text/plain": [
       "(5000, 14)"
      ]
     },
     "execution_count": 17,
     "metadata": {},
     "output_type": "execute_result"
    }
   ],
   "source": [
    "# shape of the data set\n",
    "df.shape"
   ]
  },
  {
   "cell_type": "code",
   "execution_count": 18,
   "id": "04034a80",
   "metadata": {},
   "outputs": [
    {
     "name": "stdout",
     "output_type": "stream",
     "text": [
      "<class 'pandas.core.frame.DataFrame'>\n",
      "RangeIndex: 5000 entries, 0 to 4999\n",
      "Data columns (total 14 columns):\n",
      " #   Column           Non-Null Count  Dtype  \n",
      "---  ------           --------------  -----  \n",
      " 0   serial_number    5000 non-null   int64  \n",
      " 1   portfolio_name   5000 non-null   object \n",
      " 2   manager_name     5000 non-null   object \n",
      " 3   inception_date   5000 non-null   object \n",
      " 4   total_value_usd  5000 non-null   float64\n",
      " 5   asset_class      5000 non-null   object \n",
      " 6   rating           5000 non-null   object \n",
      " 7   sector           5000 non-null   object \n",
      " 8   volatility       5000 non-null   float64\n",
      " 9   region           5000 non-null   object \n",
      " 10  trade_date       5000 non-null   object \n",
      " 11  exposure_value   5000 non-null   float64\n",
      " 12  exposure_limit   5000 non-null   float64\n",
      " 13  return_rate      5000 non-null   float64\n",
      "dtypes: float64(5), int64(1), object(8)\n",
      "memory usage: 547.0+ KB\n"
     ]
    }
   ],
   "source": [
    "# show columns, null values, data type\n",
    "df.info()"
   ]
  },
  {
   "cell_type": "code",
   "execution_count": 19,
   "id": "c33664c1",
   "metadata": {},
   "outputs": [
    {
     "data": {
      "application/vnd.microsoft.datawrangler.viewer.v0+json": {
       "columns": [
        {
         "name": "index",
         "rawType": "object",
         "type": "string"
        },
        {
         "name": "0",
         "rawType": "int64",
         "type": "integer"
        }
       ],
       "ref": "3b7e1edc-097b-429c-951b-92a0d3c6c68e",
       "rows": [
        [
         "manager_name",
         "5"
        ],
        [
         "asset_class",
         "5"
        ],
        [
         "rating",
         "5"
        ],
        [
         "region",
         "5"
        ],
        [
         "sector",
         "6"
        ],
        [
         "return_rate",
         "16"
        ],
        [
         "portfolio_name",
         "50"
        ],
        [
         "inception_date",
         "50"
        ],
        [
         "total_value_usd",
         "50"
        ],
        [
         "volatility",
         "76"
        ],
        [
         "trade_date",
         "651"
        ],
        [
         "serial_number",
         "5000"
        ],
        [
         "exposure_value",
         "5000"
        ],
        [
         "exposure_limit",
         "5000"
        ]
       ],
       "shape": {
        "columns": 1,
        "rows": 14
       }
      },
      "text/plain": [
       "manager_name          5\n",
       "asset_class           5\n",
       "rating                5\n",
       "region                5\n",
       "sector                6\n",
       "return_rate          16\n",
       "portfolio_name       50\n",
       "inception_date       50\n",
       "total_value_usd      50\n",
       "volatility           76\n",
       "trade_date          651\n",
       "serial_number      5000\n",
       "exposure_value     5000\n",
       "exposure_limit     5000\n",
       "dtype: int64"
      ]
     },
     "execution_count": 19,
     "metadata": {},
     "output_type": "execute_result"
    }
   ],
   "source": [
    "# Checking for no of unique values in each columns\n",
    "df.nunique().sort_values()"
   ]
  },
  {
   "cell_type": "markdown",
   "id": "1f303004",
   "metadata": {},
   "source": [
    ">### Data Cleaning & Handling Missing Values"
   ]
  },
  {
   "cell_type": "code",
   "execution_count": 20,
   "id": "bd0b61f3",
   "metadata": {},
   "outputs": [
    {
     "name": "stdout",
     "output_type": "stream",
     "text": [
      "No. of Duplicate Rows: 0\n"
     ]
    }
   ],
   "source": [
    "# No. of duplicate rows if present\n",
    "print(f\"No. of Duplicate Rows: {df.duplicated().sum()}\")"
   ]
  },
  {
   "cell_type": "code",
   "execution_count": 21,
   "id": "764d4b39",
   "metadata": {},
   "outputs": [
    {
     "data": {
      "application/vnd.microsoft.datawrangler.viewer.v0+json": {
       "columns": [
        {
         "name": "index",
         "rawType": "object",
         "type": "string"
        },
        {
         "name": "0",
         "rawType": "int64",
         "type": "integer"
        }
       ],
       "ref": "5e68b37d-e75f-4361-839c-2733b89283fd",
       "rows": [
        [
         "serial_number",
         "0"
        ],
        [
         "portfolio_name",
         "0"
        ],
        [
         "manager_name",
         "0"
        ],
        [
         "inception_date",
         "0"
        ],
        [
         "total_value_usd",
         "0"
        ],
        [
         "asset_class",
         "0"
        ],
        [
         "rating",
         "0"
        ],
        [
         "sector",
         "0"
        ],
        [
         "volatility",
         "0"
        ],
        [
         "region",
         "0"
        ],
        [
         "trade_date",
         "0"
        ],
        [
         "exposure_value",
         "0"
        ],
        [
         "exposure_limit",
         "0"
        ],
        [
         "return_rate",
         "0"
        ]
       ],
       "shape": {
        "columns": 1,
        "rows": 14
       }
      },
      "text/plain": [
       "serial_number      0\n",
       "portfolio_name     0\n",
       "manager_name       0\n",
       "inception_date     0\n",
       "total_value_usd    0\n",
       "asset_class        0\n",
       "rating             0\n",
       "sector             0\n",
       "volatility         0\n",
       "region             0\n",
       "trade_date         0\n",
       "exposure_value     0\n",
       "exposure_limit     0\n",
       "return_rate        0\n",
       "dtype: int64"
      ]
     },
     "execution_count": 21,
     "metadata": {},
     "output_type": "execute_result"
    }
   ],
   "source": [
    "# Checking for null values\n",
    "df.isnull().sum().sort_values()"
   ]
  },
  {
   "cell_type": "markdown",
   "id": "b057a47c",
   "metadata": {},
   "source": [
    ">### Summary Statstics"
   ]
  },
  {
   "cell_type": "code",
   "execution_count": null,
   "id": "238e7e88",
   "metadata": {},
   "outputs": [
    {
     "data": {
      "image/png": "[encoded data removed]",
      "text/plain": [
       "<Figure size 1000x300 with 1 Axes>"
      ]
     },
     "metadata": {},
     "output_type": "display_data"
    }
   ],
   "source": [
    "desc = df.describe(include=[\"float\"]).round(2)\n",
    "plt.figure(figsize=(10, 3))\n",
    "plt.table(\n",
    "    rowLabels=desc.index,\n",
    "    colLabels=desc.columns,\n",
    "    cellText=desc.values,\n",
    "    loc=\"center\",\n",
    "    cellLoc=\"center\",\n",
    ")\n",
    "plt.title(\"Summary Statistics\", fontsize=15, fontweight=\"bold\", loc=\"center\")\n",
    "plt.axis(\"off\")\n",
    "plt.tight_layout()\n",
    "plt.show()"
   ]
  }
 ],
 "metadata": {
  "kernelspec": {
   "display_name": ".venv (3.14.0)",
   "language": "python",
   "name": "python3"
  },
  "language_info": {
   "codemirror_mode": {
    "name": "ipython",
    "version": 3
   },
   "file_extension": ".py",
   "mimetype": "text/x-python",
   "name": "python",
   "nbconvert_exporter": "python",
   "pygments_lexer": "ipython3",
   "version": "3.14.0"
  }
 },
 "nbformat": 4,
 "nbformat_minor": 5
}
